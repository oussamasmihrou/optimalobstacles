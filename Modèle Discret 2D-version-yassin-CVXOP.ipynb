{
 "cells": [
  {
   "cell_type": "markdown",
   "metadata": {
    "id": "nTxNrCZi9zEb"
   },
   "source": [
    "#Packages"
   ]
  },
  {
   "cell_type": "code",
   "execution_count": 1,
   "metadata": {
    "colab": {
     "base_uri": "https://localhost:8080/"
    },
    "id": "WWyLOApIAyeT",
    "outputId": "92ac5f2f-976c-40ee-e1de-e300c74b9ee1"
   },
   "outputs": [],
   "source": [
    "import numpy\n",
    "from numpy.linalg import norm\n",
    "from numpy import dot,array\n",
    "\n",
    "import matplotlib.pyplot as plt\n",
    "from matplotlib.patches import Rectangle, Circle\n",
    "import matplotlib.patches as patches\n",
    "\n",
    "from pylab import show,imshow\n",
    "import heapq\n",
    "from math import *\n",
    "\n",
    "#!pip install cvxopt\n",
    "from cvxopt import matrix, solvers\n",
    "\n",
    "import random\n",
    "\n",
    "import os\n",
    "import matplotlib.animation as animation"
   ]
  },
  {
   "cell_type": "markdown",
   "metadata": {
    "id": "CH9ZeH9f6kJc"
   },
   "source": [
    "#Initialiser la géométrie"
   ]
  },
  {
   "cell_type": "code",
   "execution_count": 2,
   "metadata": {
    "id": "IzJjQ1EXYM2t"
   },
   "outputs": [],
   "source": [
    "class GridGraph:\n",
    "\n",
    "    global OBSTACLE\n",
    "    global EXIT\n",
    "    OBSTACLE = 0\n",
    "    EXIT = 2\n",
    "\n",
    "    def __init__(self,size_scene,precision):\n",
    "        self.precision = precision\n",
    "        self.horizontal_size = int(size_scene[0]*precision)+1\n",
    "        self.vertical_size = int(size_scene[1]*precision)+1\n",
    "        self.indicator_map = numpy.ones((self.vertical_size,self.horizontal_size))\n",
    "        self.distances = numpy.ones((self.vertical_size,self.horizontal_size))*float('inf')\n",
    "\n",
    "    def get_neighbours(self,node):\n",
    "        result = {}\n",
    "        if node[1]<self.horizontal_size-1:\n",
    "            result['x+1']=(node[0],node[1]+1)\n",
    "        if node[1]>0:\n",
    "            result['x-1']=(node[0],node[1]-1)\n",
    "        if node[0]<self.vertical_size-1:\n",
    "            result['y+1']=(node[0]+1,node[1])\n",
    "        if node[0]>0:\n",
    "            result['y-1']=(node[0]-1,node[1])\n",
    "        return result\n",
    "\n",
    "    def to_node(self,coordinates):\n",
    "        return (int(coordinates[1]*self.precision),int(coordinates[0]*self.precision))\n",
    "\n",
    "    def prepare_graph_for_fast_marching(self,obstacles,exits,agentSize):\n",
    "\n",
    "        for obstacle in obstacles:\n",
    "\n",
    "            dl = (obstacle.position[0] , obstacle.position[1])\n",
    "\n",
    "            ur = (obstacle.position[0] + obstacle.width , obstacle.position[1] + obstacle.height)\n",
    "\n",
    "            for x in range(self.to_node(dl)[0]+1,self.to_node(ur)[0]):\n",
    "\n",
    "                for y in range(self.to_node(dl)[1]+1,self.to_node(ur)[1]):\n",
    "\n",
    "                    if x>=0 and x<self.indicator_map.shape[0] and y>=0 and y<self.indicator_map.shape[1]:\n",
    "                      \n",
    "                        self.indicator_map[x,y]=OBSTACLE\n",
    "\n",
    "        for exit_ in exits:\n",
    "            dl = (exit_.position[0],exit_.position[1])\n",
    "            ur = (exit_.position[0]+exit_.width,exit_.position[1]+exit_.height)\n",
    "            for x in range(self.to_node(dl)[0],self.to_node(ur)[0]+1):\n",
    "                for y in range(self.to_node(dl)[1],self.to_node(ur)[1]+1):\n",
    "                    if x>=0 and x<self.indicator_map.shape[0] and y>=0 and y<self.indicator_map.shape[1]:\n",
    "                        self.indicator_map[x,y]=EXIT"
   ]
  },
  {
   "cell_type": "code",
   "execution_count": 3,
   "metadata": {
    "id": "KquUTqkMPSAU"
   },
   "outputs": [],
   "source": [
    "def generate_indiv(N):\n",
    "\n",
    "  a , b = size_scene\n",
    "  espace_x , espace_y = 20 , 20\n",
    "\n",
    "  #first agent\n",
    "  x = random.randint(eps+espace_x,a-eps-espace_x)\n",
    "  y = random.randint(eps+espace_y,b-eps-espace_y)\n",
    "  L = [myAgent((x,y))]\n",
    "\n",
    "  while len(L) < N:\n",
    "\n",
    "    choc = False\n",
    "\n",
    "    q = [agent.position for agent in L]\n",
    "    R = [agent.size for agent in L]\n",
    "\n",
    "    x = random.randint(eps+espace_x,a-eps-espace_x)\n",
    "    y = random.randint(eps+espace_y,b-eps-espace_y)\n",
    "    r = 4\n",
    "\n",
    "    q.append([x,y])\n",
    "    R.append(r)\n",
    "\n",
    "\n",
    "    for j in range(len(q)-1):\n",
    "      if dist(q[-1], q[j]) - (R[-1]+R[j]) <= 5:\n",
    "        choc = True\n",
    "        break\n",
    "\n",
    "    if not choc:\n",
    "      agent = myAgent((x,y))\n",
    "      agent.size = r\n",
    "      L.append(agent)\n",
    "      \n",
    "  return L"
   ]
  },
  {
   "cell_type": "code",
   "execution_count": 4,
   "metadata": {
    "id": "qgZeUGenOeYS"
   },
   "outputs": [],
   "source": [
    "class PriorityQueue():\n",
    "\n",
    "\n",
    "    def __init__(self):\n",
    "        self.queue = []\n",
    "        self.current = 0\n",
    "\n",
    "    def pop(self):\n",
    "        return heapq.heappop(self.queue)\n",
    "\n",
    "    def remove(self, nodeId):\n",
    "        for i in range(len(self.queue)):\n",
    "            if self.queue[i][1]==nodeId:\n",
    "                self.queue.pop(i)\n",
    "                break;\n",
    "\n",
    "    def __iter__(self):\n",
    "        return self\n",
    "\n",
    "    def __str__(self):\n",
    "        return 'PQ:[%s]'%(', '.join([str(i) for i in self.queue]))\n",
    "\n",
    "    def append(self, node):\n",
    "        heapq.heappush(self.queue,node)\n",
    "\n",
    "    def __contains__(self, key):\n",
    "        self.current = 0\n",
    "        return key in [n for _,n in self.queue]\n",
    "\n",
    "    def __eq__(self, other):\n",
    "        self.curent = 0\n",
    "        return self == other\n",
    "\n",
    "    def __getitem__(self, nodeId):\n",
    "        for element in self.queue:\n",
    "            if element[1]==nodeId:\n",
    "                return element\n",
    "        return None\n",
    "\n",
    "    def clear(self):\n",
    "        self.queue = []\n",
    "\n",
    "    def __len__(self):\n",
    "        return len(self.queue)\n",
    "\n",
    "    __next__ = next\n"
   ]
  },
  {
   "cell_type": "code",
   "execution_count": 5,
   "metadata": {
    "id": "GvqNgHMyPLB_"
   },
   "outputs": [],
   "source": [
    "class Exit:\n",
    "  \n",
    "    def __init__(self,position,width,height):\n",
    "\n",
    "        self.position = position\n",
    "        self.width = width\n",
    "        self.height = height"
   ]
  },
  {
   "cell_type": "code",
   "execution_count": 6,
   "metadata": {
    "id": "y7ODO2ZdPe6m"
   },
   "outputs": [],
   "source": [
    "class Obstacle():\n",
    "\n",
    "    def __init__(self, position,width,height):\n",
    "\n",
    "        self.position=position\n",
    "        self.width=width\n",
    "        self.height=height\n",
    "        \n",
    "    def __repr__(self):\n",
    "        return 'Obstacle'+'\\n'+'DL:'+str(self.position)+'DR:'+str((self.position[0]+self.width,self.position[1]))+'UR:'+str((self.position[0]+self.width,self.position[1]+self.height))+'UL:'+str((self.position[0]+self.width,self.position[1]))"
   ]
  },
  {
   "cell_type": "code",
   "execution_count": 7,
   "metadata": {
    "id": "jEDMMyYqVANL"
   },
   "outputs": [],
   "source": [
    "def draw(Ex, Obs, scene, agents):\n",
    "\n",
    "  fig, ax = plt.subplots(figsize=(10,7))\n",
    "\n",
    "  #Draw the environment\n",
    "  L , l = scene\n",
    "  plt.plot([0, L], [0, 0], 'black')\n",
    "  plt.plot([L, L], [0, l], 'black')\n",
    "  plt.plot([L, 0], [l,l], 'black')\n",
    "  plt.plot([0,0], [l,0], 'black')\n",
    "  \n",
    "  #Draw Obstacle\n",
    "  for obs in Obs:\n",
    "    rect = Rectangle(obs.position, obs.width, obs.height)\n",
    "    rect.set_color('black')\n",
    "    ax.add_patch(rect)\n",
    "  \n",
    "  #Draw exits\n",
    "  for e in Ex:\n",
    "    rect = Rectangle(e.position, e.width, e.height)\n",
    "    rect.set_color('red')\n",
    "    ax.add_patch(rect)\n",
    "\n",
    "  #Draw agents\n",
    "  for agent in agents:\n",
    "    x,y = agent.position\n",
    "    circle = Circle((x,y), agent.size)\n",
    "    circle.set_color(agent.color)\n",
    "    ax.add_patch(circle)\n",
    "\n",
    "  plt.show()"
   ]
  },
  {
   "cell_type": "markdown",
   "metadata": {
    "id": "5Mww10zw6KyN"
   },
   "source": [
    "#Fast Marching"
   ]
  },
  {
   "cell_type": "code",
   "execution_count": 8,
   "metadata": {
    "id": "TO1nov1z6NUF"
   },
   "outputs": [],
   "source": [
    "def fast_marching_method(graph,start):\n",
    "  \n",
    "    def calculus_distance(node,graph,weights):\n",
    "        neighbours = graph.get_neighbours(node);\n",
    "        if 'y-1' in neighbours :\n",
    "            if 'y+1' in neighbours:\n",
    "                x1 = min(weights[neighbours['y-1']],weights[neighbours['y+1']]);\n",
    "            else :\n",
    "                x1 = weights[neighbours['y-1']];\n",
    "        else :\n",
    "            if 'y+1' in neighbours:\n",
    "                x1 = weights[neighbours['y+1']];\n",
    "        if 'x-1' in neighbours:\n",
    "            if 'x+1' in neighbours:\n",
    "                x2 = min(weights[neighbours['x-1']],weights[neighbours['x+1']]);\n",
    "            else :\n",
    "                x2 = weights[neighbours['x-1']];\n",
    "        else :\n",
    "            if 'x+1' in neighbours:\n",
    "                x2 = weights[neighbours['x+1']];\n",
    "        \n",
    "        if 2*h**2-(x1-x2)**2>=0:\n",
    "            return (x1+x2+(2*h**2-(x1-x2)**2)**0.5)/2\n",
    "        else:\n",
    "            return min(x1,x2)+h\n",
    "        \n",
    "    \n",
    "    frontier = PriorityQueue();\n",
    "    weights = graph.distances;\n",
    "    \n",
    "    explored = []\n",
    "    \n",
    "    goals = numpy.where(graph.indicator_map==2)\n",
    "    goals_x = goals[0]\n",
    "    goals_y = goals[1]\n",
    "    for i in range(goals_x.size):\n",
    "        frontier.append([0,(goals_x[i],goals_y[i])])\n",
    "        weights[(goals_x[i],goals_y[i])] = 0\n",
    "    \n",
    "       \n",
    "    while frontier:\n",
    "        node = frontier.pop();\n",
    "        explored.append(node[1])\n",
    "        neighbours = graph.get_neighbours(node[1]);\n",
    "        for neighbour in neighbours.values():\n",
    "            if neighbour not in explored and graph.indicator_map[neighbour]:\n",
    "                if not neighbour in frontier:\n",
    "                    frontier.append([calculus_distance(neighbour,graph,weights),neighbour])\n",
    "                    weights[neighbour]=calculus_distance(neighbour,graph,weights)\n",
    "                elif weights[neighbour] > calculus_distance(neighbour,graph,weights):\n",
    "                    frontier[neighbour][0]=calculus_distance(neighbour,graph,weights)\n",
    "                    weights[neighbour]=calculus_distance(neighbour,graph,weights)\n",
    "\n",
    "    graph.distances = weights"
   ]
  },
  {
   "cell_type": "markdown",
   "metadata": {
    "id": "ntRK5OEVQ1ki"
   },
   "source": [
    "#MyAgent"
   ]
  },
  {
   "cell_type": "code",
   "execution_count": 9,
   "metadata": {
    "id": "2PZF5oY-Q3jJ"
   },
   "outputs": [],
   "source": [
    "class myAgent():\n",
    "\n",
    "  def __init__(self, position):\n",
    "    self.position = position\n",
    "    self.speed = (0,0)\n",
    "    self.D_S = (1,0)\n",
    "    self.size = 4\n",
    "    self.has_reached_exit = False\n",
    "    self.masse = 80\n",
    "    self.color = 'red'\n",
    "\n",
    "\n",
    "  def Voisins(self, agents):\n",
    "\n",
    "    liste = []\n",
    "\n",
    "    for agent in agents:\n",
    "      if agent != self:\n",
    "        if dist(agent.position, self.position)<3:\n",
    "          liste.append(agent)\n",
    "\n",
    "    return liste\n",
    "\n",
    "\n",
    "  def update_D_S(self):\n",
    "\n",
    "    x, y = self.position\n",
    "\n",
    "    a, b = size_scene\n",
    "\n",
    "    try :\n",
    "      n , m = int(x/h) , int((b-y)/h)\n",
    "\n",
    "      if n < 0:\n",
    "        n = 0\n",
    "      if m < 0:\n",
    "        m = 0\n",
    "      if n > len(FX[0])-1:\n",
    "        n = len(FX[0])-1\n",
    "      if m > len(FX)-1:\n",
    "        m = len(FX)-1\n",
    "      \n",
    "      self.D_S = (FX[m][n], FY[m][n])\n",
    "\n",
    "    except :\n",
    "      return\n",
    "\n",
    "\n",
    "\n",
    "  def update_Speed(self, v):\n",
    "\n",
    "    self.speed = (v[0],v[1])\n",
    "\n",
    "\n",
    "  def reach_exit(self):\n",
    "    x, y = self.position\n",
    "    r = self.size\n",
    "    for exit in exits:\n",
    "      [ex, ey], w = exit.position, exit.width\n",
    "      if ex + r < x < ex + w -r and y + r >= ey:\n",
    "        self.has_reached_exit = True\n",
    "\n",
    "\n",
    "  def update_Position(self, q):\n",
    "\n",
    "    self.position = q\n",
    "    self.reach_exit()"
   ]
  },
  {
   "cell_type": "markdown",
   "metadata": {
    "id": "6knrf8Rp52UA"
   },
   "source": [
    "#Fonctions"
   ]
  },
  {
   "cell_type": "code",
   "execution_count": 10,
   "metadata": {
    "id": "jT1WG4EIOSKc"
   },
   "outputs": [],
   "source": [
    "def dist(p1,p2):\n",
    "    return norm(numpy.array(p1)-numpy.array(p2))\n",
    "\n",
    "def distance_vecteur_obj(q1, q2, r1, r2):\n",
    "    d = dist(q1, q2)\n",
    "\n",
    "    n = -(numpy.array(q2) - numpy.array(q1))/d\n",
    "\n",
    "    d = d - (r1 + r2)\n",
    "\n",
    "    return d , n\n",
    "\n",
    "def distance_vecteur_obs(q , r, obstacle):\n",
    "    [a0, b0], L, l = obstacle.position, obstacle.width, obstacle.height\n",
    "    a1, b1 = a0 + L , b0 + l\n",
    "    x , y = q\n",
    "    point = []\n",
    "\n",
    "    if x<=a0:\n",
    "      if y>=b1: #zone1\n",
    "        point = [a0, b1]\n",
    "\n",
    "      elif b0<y<b1: #zone2\n",
    "        point = [a0, y]\n",
    "\n",
    "      else: #zone3\n",
    "        point = [a0, b0]\n",
    "\n",
    "    elif a0<x<a1:\n",
    "      if y>=b1: #zone4\n",
    "        point = [x, b1]\n",
    "\n",
    "      elif b0<y<b1: #zone5\n",
    "        point = [0,0]\n",
    "        print(\"zone 5\")\n",
    "\n",
    "      else: #zone6\n",
    "        point = [x, b0]\n",
    "\n",
    "    else:\n",
    "      if y>=b1: #zone7\n",
    "        point = [a1, b1]\n",
    "\n",
    "      elif b0<y<b1: #zone8\n",
    "        point = [a1, y]\n",
    "\n",
    "      else: #zone9\n",
    "        point = [a1, b0]\n",
    "        \n",
    "    d = dist(point , q)\n",
    "    n = (numpy.array(q) - numpy.array(point))/d\n",
    "\n",
    "    return d - r , n"
   ]
  },
  {
   "cell_type": "code",
   "execution_count": 11,
   "metadata": {
    "id": "NFOETR03PgG4"
   },
   "outputs": [],
   "source": [
    "def enFace(agent, agent2):\n",
    "\n",
    "  n = -(numpy.array(agent.position) - numpy.array(agent2.position))\n",
    "  v = numpy.array(agent.speed)\n",
    "\n",
    "  n_ = n / numpy.linalg.norm(n)\n",
    "  v_ = v / numpy.linalg.norm(v)\n",
    "  dot_product = numpy.dot(n_, v_)\n",
    "  angle = numpy.arccos(dot_product)\n",
    "\n",
    "  x = dist(agent.position, agent2.position) - (agent.size + agent2.size)\n",
    "\n",
    "  if abs(angle) < pi/2 and x <= 15:\n",
    "    return True\n",
    "  \n",
    "  return False"
   ]
  },
  {
   "cell_type": "code",
   "execution_count": 12,
   "metadata": {
    "id": "SmUeAhnK9S39"
   },
   "outputs": [],
   "source": [
    "#force motrice\n",
    "def f_motrice(agent):\n",
    "  tau = 0.5\n",
    "  return (numpy.array(agent.D_S) - numpy.array(agent.speed))/tau\n",
    "\n",
    "\n",
    "#force répulsive objet\n",
    "def f_objet(agent):\n",
    "\n",
    "  f = numpy.array([float(0),float(0)])\n",
    "  \n",
    "  for ag in agents:\n",
    "    if ag != agent:\n",
    "\n",
    "      d, n = distance_vecteur_obj(agent.position, ag.position, agent.size, ag.size)\n",
    "\n",
    "      f += alpha_obj * exp((0 - d)/beta_obj) * n\n",
    "\n",
    "      if enFace(agent, ag):\n",
    "\n",
    "        f += k * (d0-d) * n\n",
    "\n",
    "        t = numpy.array([n[1] , -n[0]])\n",
    "        u = numpy.array(ag.speed) - numpy.array(agent.speed)\n",
    "\n",
    "        f += (d0-d) * K * numpy.dot(u , t) * t\n",
    "\n",
    "  return f\n",
    "\n",
    "\n",
    "#force répulsive obstacle\n",
    "def f_obstacle(agent):\n",
    "\n",
    "  f = numpy.array([float(0),float(0)])\n",
    "\n",
    "  for obs in obstacles:\n",
    "    \n",
    "    r , [d, n] = agent.size , distance_vecteur_obs(agent.position , agent.size, obs)\n",
    "\n",
    "    d = d - r\n",
    "\n",
    "    f += alpha_obs * exp((d0_obs-d)/beta_obs) * n\n",
    "      \n",
    "  return f"
   ]
  },
  {
   "cell_type": "code",
   "execution_count": 13,
   "metadata": {
    "id": "aDC1uIqJdOQN"
   },
   "outputs": [],
   "source": [
    "def matrice_normals(q, R):\n",
    "\n",
    "  Normals = []\n",
    "  agents_en_chocs = []\n",
    "  m = len(q)\n",
    "\n",
    "  #chocs agents\n",
    "  for i in range(m):\n",
    "\n",
    "    N = numpy.zeros(2*m)\n",
    "\n",
    "    for j in range(m):\n",
    "      if j != i:\n",
    "        d , n = distance_vecteur_obj(q[i], q[j], R[i], R[j])\n",
    "        if d <= 0.3:\n",
    "          N[2*i], N[2*i+1], N[2*j], N[2*j+1] = n[0], n[1], -n[0], -n[1]\n",
    "\n",
    "    if not all(v == 0 for v in N):\n",
    "      Normals.append(N)\n",
    "      agents_en_chocs.append(i)\n",
    "\n",
    "  #chocs obstacle\n",
    "  for obstacle in obstacles:\n",
    "\n",
    "    N = numpy.zeros(2*m)\n",
    "\n",
    "    for i in range(m):\n",
    "      d , n = distance_vecteur_obs(q[i] , R[i], obstacle)\n",
    "      if d <= 0:\n",
    "        N[2*i], N[2*i+1] = n[0], n[1]\n",
    "        if N[2*i] != 0 or N[2*i+1] != 0:\n",
    "          agents_en_chocs.append(i)\n",
    "\n",
    "    if not all(v == 0 for v in N):\n",
    "      Normals.append(N)\n",
    "  \n",
    "  return numpy.array(Normals) , agents_en_chocs"
   ]
  },
  {
   "cell_type": "code",
   "execution_count": 14,
   "metadata": {
    "id": "iW7bwjRB9T5C"
   },
   "outputs": [],
   "source": [
    "def detection_de_chocs(Q, R):\n",
    "\n",
    "  m = len(agents)\n",
    "\n",
    "  for i in range(m):\n",
    "    [x , y], r = Q[i], R[i]\n",
    "\n",
    "    #chocs obstacle\n",
    "    for obstacle in obstacles:\n",
    "      [a0, b0], L, l = obstacle.position, obstacle.width, obstacle.height\n",
    "      a1, b1 = a0 + L , b0 + l\n",
    "\n",
    "      if a0<=x<=a1 and b0-r<=y<=b1+r:\n",
    "        return True\n",
    "\n",
    "      if b0<=y<=b1 and a0-r<=x<=a1+r:\n",
    "        return True\n",
    "\n",
    "\n",
    "    #chocs agents\n",
    "    for j in range(m):\n",
    "      if j != i:\n",
    "        if dist(Q[i], Q[j]) - (R[i]+R[j]) <= 0.3:\n",
    "          return True\n",
    "  \n",
    "  return False\n"
   ]
  },
  {
   "cell_type": "code",
   "execution_count": 15,
   "metadata": {
    "id": "ym5Bf2RnTkSK"
   },
   "outputs": [],
   "source": [
    "def predict_position2(V):\n",
    "  p = int(len(V)/2)\n",
    "  V2 = numpy.array([ [V[2*j], V[2*j+1]] for j in range(p) ])\n",
    "  #return [numpy.array(agent.position) + (numpy.array(agent.speed) + V2[agents.index(agent)])/2 for agent in agents]\n",
    "  return [numpy.array(agent.position) + 0.1*V2[agents.index(agent)] for agent in agents]"
   ]
  },
  {
   "cell_type": "code",
   "execution_count": 16,
   "metadata": {
    "id": "KEYIT2PxDTbz"
   },
   "outputs": [],
   "source": [
    "def correction_vitesses(V, Pext):\n",
    "  V, Pext = numpy.array(V), numpy.array(Pext)\n",
    "  dt = 0.1\n",
    "  p = len(agents)\n",
    "  agents_en_chocs = []\n",
    "\n",
    "  q = predict_position2(V)\n",
    "  R = [agent.size for agent in agents]\n",
    "\n",
    "  if detection_de_chocs(q, R):\n",
    "\n",
    "    # Matrice Masse\n",
    "    M = numpy.zeros((2*p, 2*p))\n",
    "    for i in range(p):\n",
    "      M[2*i][2*i] = agents[i].masse\n",
    "      M[2*i+1][2*i+1] = agents[i].masse\n",
    "\n",
    "    # Matrice Normales\n",
    "    C_N , agents_en_chocs = matrice_normals(q, R)\n",
    "\n",
    "    U = dot(C_N.transpose(), C_N)\n",
    "    A = M + 0.5 * K_n * U\n",
    "    B = dot(M - 0.5 * K_n * U , V) + dt * Pext\n",
    "    b = numpy.zeros(len(C_N))\n",
    "\n",
    "    return solvers.qp(A, -B, -C_N.transpose(), b)['x'] , agents_en_chocs\n",
    "\n",
    "  else:\n",
    "\n",
    "    return V , agents_en_chocs"
   ]
  },
  {
   "cell_type": "markdown",
   "metadata": {
    "id": "Z29SnGIi7btc"
   },
   "source": [
    "#Configuration"
   ]
  },
  {
   "cell_type": "code",
   "execution_count": 17,
   "metadata": {
    "id": "JtEPvnsAO-IQ"
   },
   "outputs": [],
   "source": [
    "a , b , eps = 400, 200, 2\n",
    "size_scene = (a,b)\n",
    "\n",
    "obstacles = [Obstacle((0,0),a,eps), Obstacle((eps,b-eps),a-eps,eps)]\n",
    "\n",
    "exits = []"
   ]
  },
  {
   "cell_type": "code",
   "execution_count": 18,
   "metadata": {
    "colab": {
     "base_uri": "https://localhost:8080/",
     "height": 427
    },
    "id": "O0NgiWWIPbHb",
    "outputId": "3941b951-d2a6-4108-8084-d53993f1681d"
   },
   "outputs": [
    {
     "data": {
      "image/png": "[encoded data removed]",
      "text/plain": [
       "<Figure size 720x504 with 1 Axes>"
      ]
     },
     "metadata": {
      "needs_background": "light"
     },
     "output_type": "display_data"
    }
   ],
   "source": [
    "agents = []\n",
    "\n",
    "agents = generate_indiv(40)\n",
    "\n",
    "draw(exits, obstacles, size_scene, agents)"
   ]
  },
  {
   "cell_type": "markdown",
   "metadata": {
    "id": "VWI3hsC7WoSq"
   },
   "source": [
    "#Simulation2"
   ]
  },
  {
   "cell_type": "code",
   "execution_count": 19,
   "metadata": {
    "colab": {
     "base_uri": "https://localhost:8080/"
    },
    "id": "soRu0GA4lmjp",
    "outputId": "2c5f712e-3afc-49aa-96cb-5000697d979d"
   },
   "outputs": [
    {
     "name": "stderr",
     "output_type": "stream",
     "text": [
      "<ipython-input-11-a0f69c37ad01>:7: RuntimeWarning: invalid value encountered in true_divide\n",
      "  v_ = v / numpy.linalg.norm(v)\n"
     ]
    },
    {
     "name": "stdout",
     "output_type": "stream",
     "text": [
      "76\n",
      "Simulation finished\n",
      "Saving the simulation...\n",
      "Simulation saved.\n"
     ]
    }
   ],
   "source": [
    "alpha_obs , beta_obs = 10 , 0.8\n",
    "alpha_obj , beta_obj = 40 , 0.8\n",
    "d0 = 5  #evitement\n",
    "d0_obs = 2\n",
    "k = 0   #normal\n",
    "K = 60  #tangentiel\n",
    "K_n = 0\n",
    "\n",
    "\n",
    "R = [agent.size for agent in agents]\n",
    "\n",
    "def example_simulation():\n",
    " \n",
    "    time_simulation = 10 #in seconds\n",
    "    dt = .2 #in seconds\n",
    "    launch_simulation(size_scene,obstacles,exits,agents,time_simulation,dt)\n",
    "    \n",
    "    \n",
    "def launch_simulation(size_scene,obstacles,exits,agents,time_simulation,dt):\n",
    "    \n",
    "    history_agents = []\n",
    "\n",
    "    for t in range(1000):\n",
    "        \n",
    "        patches_agents = []\n",
    "        V_avant_correction = []\n",
    "        P = []\n",
    "\n",
    "        for agent in agents:\n",
    "\n",
    "            agent.update_D_S()\n",
    "\n",
    "            p_ext = f_motrice(agent) + f_objet(agent) + f_obstacle(agent)\n",
    "\n",
    "            vi = agent.speed + 0.1*p_ext/agent.masse\n",
    "\n",
    "            V_avant_correction.extend(vi)\n",
    "\n",
    "            P.extend(p_ext)\n",
    "\n",
    "\n",
    "        try:\n",
    "          V_new , agents_en_chocs = correction_vitesses(V_avant_correction, P)\n",
    "        except:\n",
    "          print(t)\n",
    "          break\n",
    "\n",
    "        for k in range(len(agents)):\n",
    "          if k not in agents_en_chocs:\n",
    "            V_new[2*k] , V_new[2*k+1] = V_avant_correction[2*k] , V_avant_correction[2*k+1]\n",
    "\n",
    "        q = predict_position2(V_new)\n",
    "          \n",
    "\n",
    "        for agent in agents: \n",
    "\n",
    "            k = agents.index(agent)\n",
    "\n",
    "            agent.update_Speed([V_new[2*k] , V_new[2*k+1]])\n",
    "            \n",
    "            agent.update_Position(q[k])\n",
    "            \n",
    "            #add patch of the agent for one frame\n",
    "            patches_agents.append(patches.Circle(agent.position,agent.size,color=agent.color))\n",
    " \n",
    "        \n",
    "        history_agents.append(patches_agents)\n",
    "\n",
    "    \n",
    "    print ('Simulation finished')\n",
    "    \n",
    "    display_simulation(history_agents, obstacles, exits, size_scene,dt,20)\n",
    "    \n",
    "def display_simulation(history_agents,obstacles, exits, size_scene,dt,speed):\n",
    "    fig = plt.Figure()\n",
    "    ax = fig.add_subplot(111, aspect='equal')\n",
    "    ax.set_xlim([0,size_scene[0]])\n",
    "    ax.set_ylim([0,size_scene[1]])\n",
    "\n",
    "    for obstacle in obstacles:\n",
    "        ax.add_patch(patches.Rectangle((obstacle.position[0],obstacle.position[1]),obstacle.width,obstacle.height))\n",
    "\n",
    "    for exit_ in exits:\n",
    "        ax.add_patch(patches.Rectangle((exit_.position[0],exit_.position[1]),exit_.width,exit_.height,color='black'))\n",
    "    \n",
    "    def init():\n",
    "        for i in range(len(history_agents)):\n",
    "            for j in range(len(history_agents[i])):\n",
    "                history_agents[i][j].set_visible(False)\n",
    "        return []\n",
    "\n",
    "    def animate(i):\n",
    "        patches = []\n",
    "        if i>0:\n",
    "            for j in range(len(history_agents[i-1])):\n",
    "                history_agents[i-1][j].set_visible(False)\n",
    "        for j in range(len(history_agents[i])):\n",
    "            history_agents[i][j].set_visible(True)\n",
    "            patches.append(ax.add_patch(history_agents[i][j]))\n",
    "        return patches\n",
    "    \n",
    "    \n",
    "    #interval doesn't work\n",
    "    anim = animation.FuncAnimation(fig, animate, init_func=init,frames=len(history_agents), interval=dt*1000/float(speed))\n",
    "    \n",
    "    def save_simulation():\n",
    "        print (\"Saving the simulation...\")\n",
    "        \n",
    "        # Set up formatting for the movie files\n",
    "        Writer = animation.writers['ffmpeg']\n",
    "        writer = Writer(fps=1/float(dt)*speed, metadata=dict(artist='Me'))\n",
    "\n",
    "        #filename = os.path.dirname(__file__)+'\\Videos\\simulation.mp4'\n",
    "        \n",
    "        anim.save('simulation.mp4', writer)\n",
    "        #startfile(filename)\n",
    "    \n",
    "    save_simulation()\n",
    "    \n",
    "    print ('Simulation saved.')\n",
    "    \n",
    "example_simulation()"
   ]
  },
  {
   "cell_type": "code",
   "execution_count": null,
   "metadata": {},
   "outputs": [],
   "source": []
  }
 ],
 "metadata": {
  "colab": {
   "collapsed_sections": [
    "nTxNrCZi9zEb",
    "CH9ZeH9f6kJc",
    "ntRK5OEVQ1ki",
    "6knrf8Rp52UA"
   ],
   "name": "Copie de Modèle Discret 2D - Evitement agents",
   "provenance": []
  },
  "kernelspec": {
   "display_name": "Python 3",
   "language": "python",
   "name": "python3"
  },
  "language_info": {
   "codemirror_mode": {
    "name": "ipython",
    "version": 3
   },
   "file_extension": ".py",
   "mimetype": "text/x-python",
   "name": "python",
   "nbconvert_exporter": "python",
   "pygments_lexer": "ipython3",
   "version": "3.8.5"
  }
 },
 "nbformat": 4,
 "nbformat_minor": 4
}
