{
 "cells": [
  {
   "cell_type": "code",
   "execution_count": 2,
   "metadata": {},
   "outputs": [
    {
     "ename": "ModuleNotFoundError",
     "evalue": "No module named 'Agent'",
     "output_type": "error",
     "traceback": [
      "\u001b[1;31m---------------------------------------------------------------------------\u001b[0m",
      "\u001b[1;31mModuleNotFoundError\u001b[0m                       Traceback (most recent call last)",
      "\u001b[1;32m<ipython-input-2-86be36c041e5>\u001b[0m in \u001b[0;36m<module>\u001b[1;34m\u001b[0m\n\u001b[1;32m----> 1\u001b[1;33m \u001b[1;32mfrom\u001b[0m \u001b[0mAgent\u001b[0m \u001b[1;32mimport\u001b[0m \u001b[0mAgent\u001b[0m\u001b[1;33m\u001b[0m\u001b[1;33m\u001b[0m\u001b[0m\n\u001b[0m\u001b[0;32m      2\u001b[0m \u001b[1;32mfrom\u001b[0m \u001b[0mObstacle\u001b[0m \u001b[1;32mimport\u001b[0m \u001b[0mObstacle\u001b[0m\u001b[1;33m\u001b[0m\u001b[1;33m\u001b[0m\u001b[0m\n\u001b[0;32m      3\u001b[0m \u001b[1;33m\u001b[0m\u001b[0m\n\u001b[0;32m      4\u001b[0m \u001b[1;32mimport\u001b[0m \u001b[0mmatplotlib\u001b[0m\u001b[1;33m.\u001b[0m\u001b[0mpyplot\u001b[0m \u001b[1;32mas\u001b[0m \u001b[0mplt\u001b[0m\u001b[1;33m\u001b[0m\u001b[1;33m\u001b[0m\u001b[0m\n\u001b[0;32m      5\u001b[0m \u001b[1;32mimport\u001b[0m \u001b[0mmatplotlib\u001b[0m\u001b[1;33m.\u001b[0m\u001b[0mpatches\u001b[0m \u001b[1;32mas\u001b[0m \u001b[0mpatches\u001b[0m\u001b[1;33m\u001b[0m\u001b[1;33m\u001b[0m\u001b[0m\n",
      "\u001b[1;31mModuleNotFoundError\u001b[0m: No module named 'Agent'"
     ]
    }
   ],
   "source": [
    "from Agent import Agent\n",
    "from Obstacle import Obstacle\n",
    "\n",
    "import matplotlib.pyplot as plt\n",
    "import matplotlib.patches as patches\n",
    "\n",
    "from math import exp\n",
    "\n",
    "from Exit import Exit\n",
    "\n",
    "fig1 = plt.figure()\n",
    "ax1 = fig1.add_subplot(111, aspect='equal')\n",
    "ax1.set_xlim([1,10])\n",
    "ax1.set_ylim([1,10])\n",
    "\n",
    "\n",
    "agent1 = Agent((5,5),1)\n",
    "agent2 = Agent((3,7),1)\n",
    "agent3 = Agent((0,2),1)\n",
    "agent4 = Agent((2,2),1)\n",
    "\n",
    "agents = []\n",
    "agents.append(agent1)\n",
    "agents.append(agent2)\n",
    "agents.append(agent3)\n",
    "agents.append(agent4)\n",
    "\n",
    "agent1.speed = (-2,2)\n",
    "agent2.speed = (0.4,-0.4)\n",
    "agents = []\n",
    "agents.append(agent1)\n",
    "agents.append(agent2)\n",
    "\n",
    "obstacles = []\n",
    "obstacle1= Obstacle((-2,2),4,1)\n",
    "obstacle2= Obstacle((4,0),1,4)\n",
    "obstacle3= Obstacle((-4,-3),3,1)\n",
    "obstacle4= Obstacle((-2,4),1,2)\n",
    "\n",
    "#obstacles.append(obstacle1)\n",
    "#obstacles.append(obstacle2)\n",
    "#obstacles.append(obstacle3)\n",
    "#obstacles.append(obstacle2)\n",
    "\n",
    "exits = []\n",
    "exit1 = Exit((4,4),2,2)\n",
    "#exits.append(exit1)\n",
    "\n",
    "agent1.update_position(agents, obstacles, exits, 1, (10,10))\n",
    "agent2.update_position(agents, obstacles, exits, 1, (10,10))\n",
    "\n",
    "for obstacle in obstacles:\n",
    "    ax1.add_patch(patches.Rectangle(obstacle.position,obstacle.width,obstacle.height))\n",
    "\n",
    "for exit in exits:\n",
    "    ax1.add_patch(patches.Rectangle(exit.position,exit.width,exit.height))\n",
    "\n",
    "for agent in agents:\n",
    "    print (agent)\n",
    "    colour = agent.get_color_agent()\n",
    "    ax1.add_patch(patches.Circle(agent.position,agent.size,color=[colour,0,0]))\n",
    "\n",
    "plt.show()"
   ]
  },
  {
   "cell_type": "code",
   "execution_count": null,
   "metadata": {},
   "outputs": [],
   "source": []
  }
 ],
 "metadata": {
  "kernelspec": {
   "display_name": "Python 3",
   "language": "python",
   "name": "python3"
  },
  "language_info": {
   "codemirror_mode": {
    "name": "ipython",
    "version": 3
   },
   "file_extension": ".py",
   "mimetype": "text/x-python",
   "name": "python",
   "nbconvert_exporter": "python",
   "pygments_lexer": "ipython3",
   "version": "3.8.3"
  }
 },
 "nbformat": 4,
 "nbformat_minor": 4
}
