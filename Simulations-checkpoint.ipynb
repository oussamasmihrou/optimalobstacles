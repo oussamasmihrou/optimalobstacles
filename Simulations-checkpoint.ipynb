{
 "cells": [
  {
   "cell_type": "markdown",
   "metadata": {},
   "source": [
    "Remarques:\n",
    "- La condition sur les agents devrait etre que presision*size agent soit un integer, sauf que les agents de masse = 1 sont de aussi acceptables malgres que 0.5*1 = 0.5 (float)\n"
   ]
  },
  {
   "cell_type": "code",
   "execution_count": 1,
   "metadata": {},
   "outputs": [],
   "source": [
    "from Obstacle import Obstacle\n",
    "from Exit import Exit\n",
    "from GridGraph import GridGraph\n",
    "from FastMarching import fast_marching_method\n",
    "from Agent import Agent\n",
    "\n",
    "import numpy as numpy\n",
    "\n",
    "import matplotlib.pyplot as plt\n",
    "import matplotlib.patches as patches\n",
    "\n",
    "from matplotlib import animation\n",
    "from pylab import show,imshow\n",
    "\n",
    "import os\n",
    "from os import startfile"
   ]
  },
  {
   "cell_type": "code",
   "execution_count": 2,
   "metadata": {},
   "outputs": [],
   "source": [
    "def example_simulation(name,obstacles,agents,exits):\n",
    "    size_scene = (100,100) # Dimensions of the Simulations's Frame\n",
    "    '''\n",
    "    #experience1\n",
    "    \n",
    "   \n",
    "    '''\n",
    "    #Multi_exit\n",
    "    exits = [Exit((85,99),10,2),Exit((99,80),2,10)]\n",
    "\n",
    "    obstacles = [Obstacle((40,20),10,60)]\n",
    "    agents = [Agent((10,90),1),Agent((10,80),1),Agent((10,70),1),Agent((10,60),2),Agent((10,50),2),Agent((10,40),2)\n",
    "              ,Agent((10,30),2),Agent((10,20),2),Agent((10,10),2),Agent((14,90),2),Agent((14,80),2),Agent((14,70),2)\n",
    "              ,Agent((14,60),2),Agent((14,50),2),Agent((14,40),2),Agent((14,30),2),Agent((14,20),2),Agent((14,10),4)\n",
    "              ] # population\n",
    "    \n",
    "    time_simulation = 40  # Full time of simulation in seconds\n",
    "    dt = .1 # time steps in seconds, 400 time steps om total\n",
    "\n",
    "    launch_simulation(size_scene,obstacles,exits,agents,time_simulation,dt,name)"
   ]
  },
  {
   "cell_type": "code",
   "execution_count": 6,
   "metadata": {},
   "outputs": [],
   "source": [
    "def launch_simulation(size_scene,obstacles,exits,agents,time_simulation,dt,name):\n",
    "    \n",
    "    history_agents = []\n",
    "    \n",
    "    print (\"Initialization of the agents...\")\n",
    "    # nodes per unity\n",
    "    precision = 0.5\n",
    "    \n",
    "    navigation_maps = {}\n",
    "    \n",
    "    for agent in agents:\n",
    "        if agent.size not in navigation_maps:\n",
    "            debug_precision = precision\n",
    "            #to make sure that precision*agent.size is an integer\n",
    "            if not precision*agent.size == int(precision*agent.size):\n",
    "                debug_precision = 1\n",
    "            graph = GridGraph(size_scene,debug_precision)\n",
    "            graph.prepare_graph_for_fast_marching(obstacles,exits,agent)\n",
    "            fast_marching_method(graph, graph.to_node(agent.position))\n",
    "            navigation_maps[agent.size] = graph\n",
    "            #shows the distance map to the exit after applying the fast marching method\n",
    "            #imshow(graph.distances,interpolation='nearest',origin='lower')\n",
    "            #show()\n",
    "    for agent in agents:\n",
    "        agent.navigation_map = navigation_maps[agent.size]\n",
    "        \n",
    "    \n",
    "    loading_bar = 0\n",
    "    print (\"Simulation running...\")\n",
    "    \n",
    "    #start simulation\n",
    "    for t in range(int(time_simulation/dt)):\n",
    "        \n",
    "        #loading bar\n",
    "        if int(t/float(int(time_simulation/dt))*100)==loading_bar:\n",
    "            print (\"#\",)\n",
    "            loading_bar = loading_bar+10\n",
    "        \n",
    "        #initialize patches for the agents for one frame of the animation\n",
    "        patches_agents = []\n",
    "        \n",
    "        numpy.random.seed(1)\n",
    "        pick_agent = numpy.random.choice(len(agents),len(agents),replace=False)\n",
    "        for i in pick_agent:\n",
    "            #update the speed of the agent\n",
    "            \n",
    "            agents[i].update_speed(agents,obstacles)\n",
    "            #update the position of the agent\n",
    "            agents[i].update_position(agents,obstacles,exits,dt,size_scene)\n",
    "            \n",
    "            #add patch of the agent for one frame\n",
    "            patches_agents.append(patches.Circle(agents[i].position,agents[i].size,color=[agents[i].get_color_agent(),0,0]))\n",
    " \n",
    "        \n",
    "        history_agents.append(patches_agents)\n",
    "\n",
    "        agents = [v for i, v in enumerate(agents) if not v.has_reached_exit]\n",
    "        #print(update_time_move_agents(time_move,agents,dt))\n",
    "        \n",
    "        if not agents:\n",
    "            break;\n",
    "    \n",
    "    print ('')\n",
    "    print ('Simulation finished at time '+str((t+1)*dt)+'s')\n",
    "    \n",
    "    display_simulation(history_agents, obstacles, exits, size_scene,dt,3,name)"
   ]
  },
  {
   "cell_type": "code",
   "execution_count": 7,
   "metadata": {},
   "outputs": [],
   "source": [
    "def display_simulation(history_agents,obstacles, exits, size_scene,dt,speed,name):\n",
    "    fig = plt.figure()\n",
    "    ax = fig.add_subplot(111, aspect='equal')\n",
    "    ax.set_xlim([0,size_scene[0]])\n",
    "    ax.set_ylim([0,size_scene[1]])\n",
    "\n",
    "    for obstacle in obstacles:\n",
    "        ax.add_patch(patches.Rectangle((obstacle.position[0],obstacle.position[1]),obstacle.width,obstacle.height))\n",
    "\n",
    "    for exit_ in exits:\n",
    "        ax.add_patch(patches.Rectangle((exit_.position[0],exit_.position[1]),exit_.width,exit_.height,color='black'))\n",
    "    \n",
    "    def init():\n",
    "        for i in range(len(history_agents)):\n",
    "            for j in range(len(history_agents[i])):\n",
    "                history_agents[i][j].set_visible(False)\n",
    "        return []\n",
    "\n",
    "    def animate(i):\n",
    "        patches = []\n",
    "        if i>0:\n",
    "            for j in range(len(history_agents[i-1])):\n",
    "                history_agents[i-1][j].set_visible(False)\n",
    "        for j in range(len(history_agents[i])):\n",
    "            history_agents[i][j].set_visible(True)\n",
    "            patches.append(ax.add_patch(history_agents[i][j]))\n",
    "        return patches\n",
    "    \n",
    "    \n",
    "    #interval doesn't work\n",
    "    anim = animation.FuncAnimation(fig, animate, init_func=init,frames=len(history_agents), interval=dt*1000/float(speed))\n",
    "    \n",
    "    def save_simulation(name):\n",
    "        print (\"Saving the simulation...\")\n",
    "        \n",
    "        # Set up formatting for the movie files\n",
    "        Writer = animation.writers['ffmpeg']\n",
    "        writer = Writer(fps=1/float(dt)*speed, metadata=dict(artist='Me'), bitrate=1800)\n",
    "\n",
    "        filename = os.path.dirname(__file__)+f'\\Videos\\{name}.mp4'\n",
    "        \n",
    "        anim.save(filename, writer)\n",
    "        startfile(filename)\n",
    "    \n",
    "    save_simulation()\n",
    "    print ('Simulation saved.')\n"
   ]
  },
  {
   "cell_type": "markdown",
   "metadata": {},
   "source": [
    "1st Example of the simulation :"
   ]
  },
  {
   "cell_type": "code",
   "execution_count": 8,
   "metadata": {},
   "outputs": [
    {
     "name": "stdout",
     "output_type": "stream",
     "text": [
      "Initialization of the agents...\n",
      "Simulation running...\n",
      "#\n",
      "#\n",
      "#\n",
      "#\n",
      "#\n",
      "#\n",
      "#\n",
      "#\n",
      "#\n",
      "#\n",
      "\n",
      "Simulation finished at time 40.0s\n"
     ]
    },
    {
     "ename": "TypeError",
     "evalue": "save_simulation() missing 1 required positional argument: 'name'",
     "output_type": "error",
     "traceback": [
      "\u001b[1;31m---------------------------------------------------------------------------\u001b[0m",
      "\u001b[1;31mTypeError\u001b[0m                                 Traceback (most recent call last)",
      "\u001b[1;32m<ipython-input-8-563647c6dd39>\u001b[0m in \u001b[0;36m<module>\u001b[1;34m\u001b[0m\n\u001b[0;32m      8\u001b[0m               ] # population\n\u001b[0;32m      9\u001b[0m \u001b[1;33m\u001b[0m\u001b[0m\n\u001b[1;32m---> 10\u001b[1;33m \u001b[0mexample_simulation\u001b[0m\u001b[1;33m(\u001b[0m\u001b[1;34m'simulation'\u001b[0m\u001b[1;33m,\u001b[0m\u001b[0mobstacles\u001b[0m\u001b[1;33m,\u001b[0m\u001b[0magents\u001b[0m\u001b[1;33m,\u001b[0m\u001b[0mexits\u001b[0m\u001b[1;33m)\u001b[0m\u001b[1;33m\u001b[0m\u001b[1;33m\u001b[0m\u001b[0m\n\u001b[0m",
      "\u001b[1;32m<ipython-input-2-3e315f69e655>\u001b[0m in \u001b[0;36mexample_simulation\u001b[1;34m(name, obstacles, agents, exits)\u001b[0m\n\u001b[0;32m     18\u001b[0m     \u001b[0mdt\u001b[0m \u001b[1;33m=\u001b[0m \u001b[1;36m.1\u001b[0m \u001b[1;31m# time steps in seconds, 400 time steps om total\u001b[0m\u001b[1;33m\u001b[0m\u001b[1;33m\u001b[0m\u001b[0m\n\u001b[0;32m     19\u001b[0m \u001b[1;33m\u001b[0m\u001b[0m\n\u001b[1;32m---> 20\u001b[1;33m     \u001b[0mlaunch_simulation\u001b[0m\u001b[1;33m(\u001b[0m\u001b[0msize_scene\u001b[0m\u001b[1;33m,\u001b[0m\u001b[0mobstacles\u001b[0m\u001b[1;33m,\u001b[0m\u001b[0mexits\u001b[0m\u001b[1;33m,\u001b[0m\u001b[0magents\u001b[0m\u001b[1;33m,\u001b[0m\u001b[0mtime_simulation\u001b[0m\u001b[1;33m,\u001b[0m\u001b[0mdt\u001b[0m\u001b[1;33m,\u001b[0m\u001b[0mname\u001b[0m\u001b[1;33m)\u001b[0m\u001b[1;33m\u001b[0m\u001b[1;33m\u001b[0m\u001b[0m\n\u001b[0m",
      "\u001b[1;32m<ipython-input-6-9611a4d31855>\u001b[0m in \u001b[0;36mlaunch_simulation\u001b[1;34m(size_scene, obstacles, exits, agents, time_simulation, dt, name)\u001b[0m\n\u001b[0;32m     64\u001b[0m     \u001b[0mprint\u001b[0m \u001b[1;33m(\u001b[0m\u001b[1;34m'Simulation finished at time '\u001b[0m\u001b[1;33m+\u001b[0m\u001b[0mstr\u001b[0m\u001b[1;33m(\u001b[0m\u001b[1;33m(\u001b[0m\u001b[0mt\u001b[0m\u001b[1;33m+\u001b[0m\u001b[1;36m1\u001b[0m\u001b[1;33m)\u001b[0m\u001b[1;33m*\u001b[0m\u001b[0mdt\u001b[0m\u001b[1;33m)\u001b[0m\u001b[1;33m+\u001b[0m\u001b[1;34m's'\u001b[0m\u001b[1;33m)\u001b[0m\u001b[1;33m\u001b[0m\u001b[1;33m\u001b[0m\u001b[0m\n\u001b[0;32m     65\u001b[0m \u001b[1;33m\u001b[0m\u001b[0m\n\u001b[1;32m---> 66\u001b[1;33m     \u001b[0mdisplay_simulation\u001b[0m\u001b[1;33m(\u001b[0m\u001b[0mhistory_agents\u001b[0m\u001b[1;33m,\u001b[0m \u001b[0mobstacles\u001b[0m\u001b[1;33m,\u001b[0m \u001b[0mexits\u001b[0m\u001b[1;33m,\u001b[0m \u001b[0msize_scene\u001b[0m\u001b[1;33m,\u001b[0m\u001b[0mdt\u001b[0m\u001b[1;33m,\u001b[0m\u001b[1;36m3\u001b[0m\u001b[1;33m,\u001b[0m\u001b[0mname\u001b[0m\u001b[1;33m)\u001b[0m\u001b[1;33m\u001b[0m\u001b[1;33m\u001b[0m\u001b[0m\n\u001b[0m",
      "\u001b[1;32m<ipython-input-7-1a695c641e39>\u001b[0m in \u001b[0;36mdisplay_simulation\u001b[1;34m(history_agents, obstacles, exits, size_scene, dt, speed, name)\u001b[0m\n\u001b[0;32m     43\u001b[0m         \u001b[0mstartfile\u001b[0m\u001b[1;33m(\u001b[0m\u001b[0mfilename\u001b[0m\u001b[1;33m)\u001b[0m\u001b[1;33m\u001b[0m\u001b[1;33m\u001b[0m\u001b[0m\n\u001b[0;32m     44\u001b[0m \u001b[1;33m\u001b[0m\u001b[0m\n\u001b[1;32m---> 45\u001b[1;33m     \u001b[0msave_simulation\u001b[0m\u001b[1;33m(\u001b[0m\u001b[1;33m)\u001b[0m\u001b[1;33m\u001b[0m\u001b[1;33m\u001b[0m\u001b[0m\n\u001b[0m\u001b[0;32m     46\u001b[0m     \u001b[0mprint\u001b[0m \u001b[1;33m(\u001b[0m\u001b[1;34m'Simulation saved.'\u001b[0m\u001b[1;33m)\u001b[0m\u001b[1;33m\u001b[0m\u001b[1;33m\u001b[0m\u001b[0m\n",
      "\u001b[1;31mTypeError\u001b[0m: save_simulation() missing 1 required positional argument: 'name'"
     ]
    },
    {
     "data": {
      "image/png": "[encoded data removed]",
      "text/plain": [
       "<Figure size 432x288 with 1 Axes>"
      ]
     },
     "metadata": {
      "needs_background": "light"
     },
     "output_type": "display_data"
    }
   ],
   "source": [
    "exits = [Exit((85,99),10,2)]\n",
    "\n",
    "obstacles = [Obstacle((40,20),10,60)]\n",
    "\n",
    "agents = [Agent((10,90),1),Agent((10,80),1),Agent((10,70),1),Agent((10,60),2),Agent((10,50),2),Agent((10,40),2)\n",
    "              ,Agent((10,30),2),Agent((10,20),2),Agent((10,10),2),Agent((14,90),2),Agent((14,80),2),Agent((14,70),2)\n",
    "              ,Agent((14,60),2),Agent((14,50),2),Agent((14,40),2),Agent((14,30),2),Agent((14,20),2),Agent((14,10),4)\n",
    "              ] # population\n",
    "\n",
    "example_simulation('simulation',obstacles,agents,exits)"
   ]
  },
  {
   "cell_type": "code",
   "execution_count": null,
   "metadata": {},
   "outputs": [],
   "source": []
  }
 ],
 "metadata": {
  "kernelspec": {
   "display_name": "Python 3",
   "language": "python",
   "name": "python3"
  },
  "language_info": {
   "codemirror_mode": {
    "name": "ipython",
    "version": 3
   },
   "file_extension": ".py",
   "mimetype": "text/x-python",
   "name": "python",
   "nbconvert_exporter": "python",
   "pygments_lexer": "ipython3",
   "version": "3.8.5"
  }
 },
 "nbformat": 4,
 "nbformat_minor": 4
}
