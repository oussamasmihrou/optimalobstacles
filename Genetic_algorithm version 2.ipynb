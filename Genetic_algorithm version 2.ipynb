{
 "cells": [
  {
   "cell_type": "code",
   "execution_count": null,
   "metadata": {},
   "outputs": [],
   "source": [
    "#used the Typing to make the code more readable"
   ]
  },
  {
   "cell_type": "code",
   "execution_count": 2,
   "metadata": {},
   "outputs": [],
   "source": [
    "from random import choices, randint, randrange, random\n",
    "from typing import List, Callable, Tuple\n",
    "import time\n",
    "from Agent import Agent\n",
    "from tqdm import tqdm\n",
    "from Simulation import example_simulation\n",
    "from Obstacle import Obstacle"
   ]
  },
  {
   "cell_type": "code",
   "execution_count": 3,
   "metadata": {},
   "outputs": [],
   "source": [
    "Chromosome = List[int]\n",
    "Population = List[Chromosome]\n",
    "Init_population = Callable[[int,int],Population]\n",
    "Fitness_function = Callable[[Chromosome],int] #this is a function that asses the validity of our solution\n",
    "Mutation_operator = Callable[[Chromosome,float],Chromosome]\n",
    "Crossover_operator = Callable[[Chromosome,Chromosome],Tuple[Chromosome,Chromosome]] #Create off spring Chromosomes "
   ]
  },
  {
   "cell_type": "code",
   "execution_count": 4,
   "metadata": {},
   "outputs": [],
   "source": [
    "#a function used to generate randomly a solution\n",
    "def generate_chromosome(length: int) -> Chromosome:\n",
    "    return choices([0, 1], k=length)\n",
    "#print(generate_chromosome(6))\n",
    "#this function would be used to intialise a varied initial population\n",
    "def init_population(size,length) -> Population:\n",
    "    return [generate_chromosome(length) for _ in range(size)]\n",
    "#print(init_population(50,5))"
   ]
  },
  {
   "cell_type": "markdown",
   "metadata": {},
   "source": [
    "Function used to bidge the agent-based model and the GA"
   ]
  },
  {
   "cell_type": "code",
   "execution_count": 5,
   "metadata": {},
   "outputs": [],
   "source": [
    "'''\n",
    "a function that returns the coodinates of an \n",
    "obstacle given its index in the search grid ( descritized into nxn small cubes of height h)\n",
    "Only works for square discretization of the search space (n = m ) \n",
    "with n > 1 \n",
    "\n",
    "Tested\n",
    "'''\n",
    "def chromosome_to_index(chromosome: Chromosome) -> int:\n",
    "    chromosome_string = ''.join([str(_) for _ in chromosome])\n",
    "    return int(str(chromosome_string),2)+1\n",
    "#print(chromosome_to_index([1,1,1,1,1]))\n",
    "\n",
    "def index_to_position(index:int,origin_coodinates,n,pas) -> Tuple:\n",
    "    O = origin_coodinates\n",
    "    if index == 0:\n",
    "        return O\n",
    "    elif index % n == 0 : \n",
    "        (x,y) = (O[0]+(n-1)*pas,O[1]+(index//n -1) * pas )\n",
    "    else:\n",
    "        (x,y) = (O[0] + (index % n -1)* pas,O[1] + index//n * pas) #cette formule fonctionne pour tout les tetes sauf pour celle ou le reste est nul raison pour quelle on a ajouté la condition au dessus\n",
    "    return (x,y)\n",
    "# add an out of index function\n",
    "#index_to_position(5,(0,0),4,1) #testing in a grid of size(4x4) with a step of 1\n",
    "\n",
    "# a function that returns the decimal index of a chromome from its binary encoding\n",
    "\n",
    "def chromosome_to_1_obstacle(chromosome) -> Obstacle: #in case one obstacle would be placed\n",
    "    index = chromosome_to_index(chromosome)\n",
    "    position = index_to_position(index,(60,40),8,3)\n",
    "    return [Obstacle(position,10,10)]\n",
    "def chromosome_to_2_obstacles(chromosome) -> Obstacle: #in case two obstacle would be placed\n",
    "    index1 = chromosome_to_index(chromosome[:6])\n",
    "    position1 = index_to_position(index1,(60,40),8,3)\n",
    "    index2 = chromosome_to_index(chromosome[6:])\n",
    "    position2 = index_to_position(index2,(60,40),8,3)\n",
    "    return [Obstacle(position1,5,5),Obstacle(position2,5,5)]\n",
    "#print(chromosome_to_1_obstacle([1,1,1,1,1]))\n",
    "#should return how fit the solution is, for the time being, this one returns simulation time \n",
    "def fitness_function(chromosome:Chromosome) -> float:\n",
    "    obstacle = chromosome_to_1_obstacle(chromosome)\n",
    "    try:\n",
    "        return (example_simulation(obstacle)) #this function returns the simulation time\n",
    "    except:\n",
    "        #print('something might have been wrong with this configuration')\n",
    "        return 40 # The simulation breaks for some obstacle's configuration, in case it did the maximum simulation time is to be given  "
   ]
  },
  {
   "cell_type": "code",
   "execution_count": 7,
   "metadata": {},
   "outputs": [
    {
     "name": "stderr",
     "output_type": "stream",
     "text": [
      "Calculating population fitness: 100%|████████████████████████████████████████████████████| 3/3 [00:48<00:00, 16.25s/it]"
     ]
    },
    {
     "name": "stdout",
     "output_type": "stream",
     "text": [
      "[{'chromosome': [0, 0, 0, 1, 0, 0, 0, 1, 1, 1, 1, 0], 'fitness': 60.0}, {'chromosome': [1, 1, 0, 1, 0, 1, 0, 0, 1, 1, 0, 0], 'fitness': 80}, {'chromosome': [1, 1, 0, 0, 0, 0, 1, 0, 0, 1, 1, 0], 'fitness': 39.400000000000006}]\n"
     ]
    },
    {
     "name": "stderr",
     "output_type": "stream",
     "text": [
      "\n"
     ]
    }
   ],
   "source": [
    "def population_information(population:Population,fitness_function:Fitness_function):\n",
    "    output = []\n",
    "    for _ in tqdm(range(len(population)),desc = 'Calculating population fitness'): \n",
    "        chromosome_information = {'chromosome':population[_],'fitness':fitness_function(population[_])}\n",
    "        output.append(chromosome_information)\n",
    "    return output\n",
    "def sort_population(population_information):\n",
    "    print(sorted(Result, key=lambda k: k['fitness'],reverse = True))"
   ]
  },
  {
   "cell_type": "code",
   "execution_count": 8,
   "metadata": {},
   "outputs": [
    {
     "name": "stderr",
     "output_type": "stream",
     "text": [
      "Calculating population fitness:   0%|                                                            | 0/3 [00:00<?, ?it/s]\n"
     ]
    },
    {
     "ename": "ValueError",
     "evalue": "invalid literal for int() with base 2: ''",
     "output_type": "error",
     "traceback": [
      "\u001b[1;31m---------------------------------------------------------------------------\u001b[0m",
      "\u001b[1;31mValueError\u001b[0m                                Traceback (most recent call last)",
      "\u001b[1;32m<ipython-input-8-e85268f6c3d9>\u001b[0m in \u001b[0;36m<module>\u001b[1;34m\u001b[0m\n\u001b[0;32m      2\u001b[0m \u001b[0mpopulation\u001b[0m \u001b[1;33m=\u001b[0m \u001b[0minit_population\u001b[0m\u001b[1;33m(\u001b[0m\u001b[1;36m3\u001b[0m\u001b[1;33m,\u001b[0m\u001b[1;36m6\u001b[0m\u001b[1;33m)\u001b[0m \u001b[1;31m#case for one obstacle, 64 index ( 8x8 grid)\u001b[0m\u001b[1;33m\u001b[0m\u001b[1;33m\u001b[0m\u001b[0m\n\u001b[0;32m      3\u001b[0m \u001b[1;33m\u001b[0m\u001b[0m\n\u001b[1;32m----> 4\u001b[1;33m \u001b[0mpopulation_information\u001b[0m \u001b[1;33m=\u001b[0m \u001b[0mpopulation_information\u001b[0m\u001b[1;33m(\u001b[0m\u001b[0mpopulation\u001b[0m\u001b[1;33m,\u001b[0m\u001b[0mfitness_function\u001b[0m\u001b[1;33m)\u001b[0m\u001b[1;33m\u001b[0m\u001b[1;33m\u001b[0m\u001b[0m\n\u001b[0m\u001b[0;32m      5\u001b[0m \u001b[1;33m\u001b[0m\u001b[0m\n",
      "\u001b[1;32m<ipython-input-7-334b370e935a>\u001b[0m in \u001b[0;36mpopulation_information\u001b[1;34m(population, fitness_function)\u001b[0m\n\u001b[0;32m      4\u001b[0m     \u001b[0moutput\u001b[0m \u001b[1;33m=\u001b[0m \u001b[1;33m[\u001b[0m\u001b[1;33m]\u001b[0m\u001b[1;33m\u001b[0m\u001b[1;33m\u001b[0m\u001b[0m\n\u001b[0;32m      5\u001b[0m     \u001b[1;32mfor\u001b[0m \u001b[0m_\u001b[0m \u001b[1;32min\u001b[0m \u001b[0mtqdm\u001b[0m\u001b[1;33m(\u001b[0m\u001b[0mrange\u001b[0m\u001b[1;33m(\u001b[0m\u001b[0mlen\u001b[0m\u001b[1;33m(\u001b[0m\u001b[0mpopulation\u001b[0m\u001b[1;33m)\u001b[0m\u001b[1;33m)\u001b[0m\u001b[1;33m,\u001b[0m\u001b[0mdesc\u001b[0m \u001b[1;33m=\u001b[0m \u001b[1;34m'Calculating population fitness'\u001b[0m\u001b[1;33m)\u001b[0m\u001b[1;33m:\u001b[0m\u001b[1;33m\u001b[0m\u001b[1;33m\u001b[0m\u001b[0m\n\u001b[1;32m----> 6\u001b[1;33m         \u001b[0mchromosome_information\u001b[0m \u001b[1;33m=\u001b[0m \u001b[1;33m{\u001b[0m\u001b[1;34m'chromosome'\u001b[0m\u001b[1;33m:\u001b[0m\u001b[0mpopulation\u001b[0m\u001b[1;33m[\u001b[0m\u001b[0m_\u001b[0m\u001b[1;33m]\u001b[0m\u001b[1;33m,\u001b[0m\u001b[1;34m'fitness'\u001b[0m\u001b[1;33m:\u001b[0m\u001b[0mfitness_function\u001b[0m\u001b[1;33m(\u001b[0m\u001b[0mpopulation\u001b[0m\u001b[1;33m[\u001b[0m\u001b[0m_\u001b[0m\u001b[1;33m]\u001b[0m\u001b[1;33m)\u001b[0m\u001b[1;33m}\u001b[0m\u001b[1;33m\u001b[0m\u001b[1;33m\u001b[0m\u001b[0m\n\u001b[0m\u001b[0;32m      7\u001b[0m         \u001b[0moutput\u001b[0m\u001b[1;33m.\u001b[0m\u001b[0mappend\u001b[0m\u001b[1;33m(\u001b[0m\u001b[0mchromosome_information\u001b[0m\u001b[1;33m)\u001b[0m\u001b[1;33m\u001b[0m\u001b[1;33m\u001b[0m\u001b[0m\n\u001b[0;32m      8\u001b[0m     \u001b[1;32mreturn\u001b[0m \u001b[0moutput\u001b[0m\u001b[1;33m\u001b[0m\u001b[1;33m\u001b[0m\u001b[0m\n",
      "\u001b[1;32m<ipython-input-5-073ad7ee9f07>\u001b[0m in \u001b[0;36mfitness_function\u001b[1;34m(chromosome)\u001b[0m\n\u001b[0;32m     39\u001b[0m \u001b[1;31m#should return how fit the solution is, for the time being, this one returns simulation time\u001b[0m\u001b[1;33m\u001b[0m\u001b[1;33m\u001b[0m\u001b[1;33m\u001b[0m\u001b[0m\n\u001b[0;32m     40\u001b[0m \u001b[1;32mdef\u001b[0m \u001b[0mfitness_function\u001b[0m\u001b[1;33m(\u001b[0m\u001b[0mchromosome\u001b[0m\u001b[1;33m:\u001b[0m\u001b[0mChromosome\u001b[0m\u001b[1;33m)\u001b[0m \u001b[1;33m->\u001b[0m \u001b[0mfloat\u001b[0m\u001b[1;33m:\u001b[0m\u001b[1;33m\u001b[0m\u001b[1;33m\u001b[0m\u001b[0m\n\u001b[1;32m---> 41\u001b[1;33m     \u001b[0mobstacle\u001b[0m \u001b[1;33m=\u001b[0m \u001b[0mchromosome_to_2_obstacles\u001b[0m\u001b[1;33m(\u001b[0m\u001b[0mchromosome\u001b[0m\u001b[1;33m)\u001b[0m\u001b[1;33m\u001b[0m\u001b[1;33m\u001b[0m\u001b[0m\n\u001b[0m\u001b[0;32m     42\u001b[0m     \u001b[1;32mtry\u001b[0m\u001b[1;33m:\u001b[0m\u001b[1;33m\u001b[0m\u001b[1;33m\u001b[0m\u001b[0m\n\u001b[0;32m     43\u001b[0m         \u001b[1;32mreturn\u001b[0m \u001b[1;33m(\u001b[0m\u001b[0mexample_simulation\u001b[0m\u001b[1;33m(\u001b[0m\u001b[0mobstacle\u001b[0m\u001b[1;33m)\u001b[0m\u001b[1;33m)\u001b[0m \u001b[1;31m#this function returns the simulation time\u001b[0m\u001b[1;33m\u001b[0m\u001b[1;33m\u001b[0m\u001b[0m\n",
      "\u001b[1;32m<ipython-input-5-073ad7ee9f07>\u001b[0m in \u001b[0;36mchromosome_to_2_obstacles\u001b[1;34m(chromosome)\u001b[0m\n\u001b[0;32m     33\u001b[0m     \u001b[0mindex1\u001b[0m \u001b[1;33m=\u001b[0m \u001b[0mchromosome_to_index\u001b[0m\u001b[1;33m(\u001b[0m\u001b[0mchromosome\u001b[0m\u001b[1;33m[\u001b[0m\u001b[1;33m:\u001b[0m\u001b[1;36m6\u001b[0m\u001b[1;33m]\u001b[0m\u001b[1;33m)\u001b[0m\u001b[1;33m\u001b[0m\u001b[1;33m\u001b[0m\u001b[0m\n\u001b[0;32m     34\u001b[0m     \u001b[0mposition1\u001b[0m \u001b[1;33m=\u001b[0m \u001b[0mindex_to_position\u001b[0m\u001b[1;33m(\u001b[0m\u001b[0mindex1\u001b[0m\u001b[1;33m,\u001b[0m\u001b[1;33m(\u001b[0m\u001b[1;36m60\u001b[0m\u001b[1;33m,\u001b[0m\u001b[1;36m40\u001b[0m\u001b[1;33m)\u001b[0m\u001b[1;33m,\u001b[0m\u001b[1;36m8\u001b[0m\u001b[1;33m,\u001b[0m\u001b[1;36m3\u001b[0m\u001b[1;33m)\u001b[0m\u001b[1;33m\u001b[0m\u001b[1;33m\u001b[0m\u001b[0m\n\u001b[1;32m---> 35\u001b[1;33m     \u001b[0mindex2\u001b[0m \u001b[1;33m=\u001b[0m \u001b[0mchromosome_to_index\u001b[0m\u001b[1;33m(\u001b[0m\u001b[0mchromosome\u001b[0m\u001b[1;33m[\u001b[0m\u001b[1;36m6\u001b[0m\u001b[1;33m:\u001b[0m\u001b[1;33m]\u001b[0m\u001b[1;33m)\u001b[0m\u001b[1;33m\u001b[0m\u001b[1;33m\u001b[0m\u001b[0m\n\u001b[0m\u001b[0;32m     36\u001b[0m     \u001b[0mposition2\u001b[0m \u001b[1;33m=\u001b[0m \u001b[0mindex_to_position\u001b[0m\u001b[1;33m(\u001b[0m\u001b[0mindex2\u001b[0m\u001b[1;33m,\u001b[0m\u001b[1;33m(\u001b[0m\u001b[1;36m60\u001b[0m\u001b[1;33m,\u001b[0m\u001b[1;36m40\u001b[0m\u001b[1;33m)\u001b[0m\u001b[1;33m,\u001b[0m\u001b[1;36m8\u001b[0m\u001b[1;33m,\u001b[0m\u001b[1;36m3\u001b[0m\u001b[1;33m)\u001b[0m\u001b[1;33m\u001b[0m\u001b[1;33m\u001b[0m\u001b[0m\n\u001b[0;32m     37\u001b[0m     \u001b[1;32mreturn\u001b[0m \u001b[1;33m[\u001b[0m\u001b[0mObstacle\u001b[0m\u001b[1;33m(\u001b[0m\u001b[0mposition1\u001b[0m\u001b[1;33m,\u001b[0m\u001b[1;36m5\u001b[0m\u001b[1;33m,\u001b[0m\u001b[1;36m5\u001b[0m\u001b[1;33m)\u001b[0m\u001b[1;33m,\u001b[0m\u001b[0mObstacle\u001b[0m\u001b[1;33m(\u001b[0m\u001b[0mposition2\u001b[0m\u001b[1;33m,\u001b[0m\u001b[1;36m5\u001b[0m\u001b[1;33m,\u001b[0m\u001b[1;36m5\u001b[0m\u001b[1;33m)\u001b[0m\u001b[1;33m]\u001b[0m\u001b[1;33m\u001b[0m\u001b[1;33m\u001b[0m\u001b[0m\n",
      "\u001b[1;32m<ipython-input-5-073ad7ee9f07>\u001b[0m in \u001b[0;36mchromosome_to_index\u001b[1;34m(chromosome)\u001b[0m\n\u001b[0;32m      9\u001b[0m \u001b[1;32mdef\u001b[0m \u001b[0mchromosome_to_index\u001b[0m\u001b[1;33m(\u001b[0m\u001b[0mchromosome\u001b[0m\u001b[1;33m:\u001b[0m \u001b[0mChromosome\u001b[0m\u001b[1;33m)\u001b[0m \u001b[1;33m->\u001b[0m \u001b[0mint\u001b[0m\u001b[1;33m:\u001b[0m\u001b[1;33m\u001b[0m\u001b[1;33m\u001b[0m\u001b[0m\n\u001b[0;32m     10\u001b[0m     \u001b[0mchromosome_string\u001b[0m \u001b[1;33m=\u001b[0m \u001b[1;34m''\u001b[0m\u001b[1;33m.\u001b[0m\u001b[0mjoin\u001b[0m\u001b[1;33m(\u001b[0m\u001b[1;33m[\u001b[0m\u001b[0mstr\u001b[0m\u001b[1;33m(\u001b[0m\u001b[0m_\u001b[0m\u001b[1;33m)\u001b[0m \u001b[1;32mfor\u001b[0m \u001b[0m_\u001b[0m \u001b[1;32min\u001b[0m \u001b[0mchromosome\u001b[0m\u001b[1;33m]\u001b[0m\u001b[1;33m)\u001b[0m\u001b[1;33m\u001b[0m\u001b[1;33m\u001b[0m\u001b[0m\n\u001b[1;32m---> 11\u001b[1;33m     \u001b[1;32mreturn\u001b[0m \u001b[0mint\u001b[0m\u001b[1;33m(\u001b[0m\u001b[0mstr\u001b[0m\u001b[1;33m(\u001b[0m\u001b[0mchromosome_string\u001b[0m\u001b[1;33m)\u001b[0m\u001b[1;33m,\u001b[0m\u001b[1;36m2\u001b[0m\u001b[1;33m)\u001b[0m\u001b[1;33m+\u001b[0m\u001b[1;36m1\u001b[0m\u001b[1;33m\u001b[0m\u001b[1;33m\u001b[0m\u001b[0m\n\u001b[0m\u001b[0;32m     12\u001b[0m \u001b[1;31m#print(chromosome_to_index([1,1,1,1,1]))\u001b[0m\u001b[1;33m\u001b[0m\u001b[1;33m\u001b[0m\u001b[1;33m\u001b[0m\u001b[0m\n\u001b[0;32m     13\u001b[0m \u001b[1;33m\u001b[0m\u001b[0m\n",
      "\u001b[1;31mValueError\u001b[0m: invalid literal for int() with base 2: ''"
     ]
    }
   ],
   "source": [
    "#example \n",
    "population = init_population(3,6) #case for one obstacle encoding, 64 index ( 8x8 grid)\n",
    "\n",
    "population_information = population_information(population,fitness_function)\n",
    "\n",
    "\n"
   ]
  },
  {
   "cell_type": "code",
   "execution_count": 12,
   "metadata": {},
   "outputs": [
    {
     "name": "stdout",
     "output_type": "stream",
     "text": [
      "([1, 0, 0, 0], [0, 0, 1, 1])\n"
     ]
    }
   ],
   "source": [
    "def single_point_crossover(a: Chromosome, b: Chromosome) -> Tuple[Chromosome, Chromosome]:\n",
    "    length = len(a)\n",
    "    p = randint(1, length - 1)\n",
    "    return a[0:p] + b[p:], b[0:p] + a[p:]\n",
    "#print(single_point_crossover([1,0,1,1],[0,0,0,0]))"
   ]
  },
  {
   "cell_type": "code",
   "execution_count": 27,
   "metadata": {},
   "outputs": [],
   "source": []
  },
  {
   "cell_type": "code",
   "execution_count": 28,
   "metadata": {},
   "outputs": [
    {
     "ename": "SyntaxError",
     "evalue": "invalid syntax (<ipython-input-28-310e241ed069>, line 3)",
     "output_type": "error",
     "traceback": [
      "\u001b[1;36m  File \u001b[1;32m\"<ipython-input-28-310e241ed069>\"\u001b[1;36m, line \u001b[1;32m3\u001b[0m\n\u001b[1;33m    itness_function: Fitness_function) -> Population: #population in the sens of being a list of 2 chromosomes\u001b[0m\n\u001b[1;37m    ^\u001b[0m\n\u001b[1;31mSyntaxError\u001b[0m\u001b[1;31m:\u001b[0m invalid syntax\n"
     ]
    }
   ],
   "source": [
    "#chooses randomly 2 parents,yet the choice is biased by the fitness of the solutions, hence, the fittest a solution, the more likely it would be chosen  \n",
    "def wheel_parent_selector(population: Population, f\n",
    "                          itness_function: Fitness_function) -> Population: #population in the sens of being a list of 2 chromosomes\n",
    "    return choices(\n",
    "        population,\n",
    "        weights=[int(Fitness_function(chromosome)) for chromosome in population],\n",
    "        k=2\n",
    "    )"
   ]
  },
  {
   "cell_type": "code",
   "execution_count": 29,
   "metadata": {},
   "outputs": [],
   "source": [
    "def mutation_operator(chromosome : Chromosome, p = .1) -> Chromosome:\n",
    "    if random() <= p:  # Mutation happening with a probability of p\n",
    "        mutated_gene = randrange(len(chromosome))\n",
    "        chromosome[mutated_gene] = abs(chromosome[mutated_gene]-1)\n",
    "        return chromosome\n",
    "    return chromosome\n",
    "#for i in range(10):\n",
    "#    print(mutation_operator([0,1,1],.1)) #example of a mutation happening with a probability of 10%"
   ]
  },
  {
   "cell_type": "markdown",
   "metadata": {},
   "source": [
    "Couplage Modèle de Mobilité - Algorithm génetiques :"
   ]
  },
  {
   "cell_type": "code",
   "execution_count": 30,
   "metadata": {},
   "outputs": [],
   "source": []
  },
  {
   "cell_type": "code",
   "execution_count": 31,
   "metadata": {},
   "outputs": [],
   "source": [
    "def print_stats(population: Population, generation_id: int, fitness_function: Fitness_function):\n",
    "    print(\"GENERATION %02d\" % generation_id)\n",
    "    print(\"=============\")\n",
    "    #print(\"Population: [%s]\" % \", \".join([genome_to_string(gene) for gene in population]))\n",
    "    print(\"Avg. Fitness: %f\" % (population_fitness(population, fitness_func) / len(population)))\n",
    "    print(\n",
    "        \"Best: %s (%f)\" % (genome_to_string(sorted_population[0]), fitness_func(sorted_population[0])))\n",
    "    print(\"Worst: %s (%f)\" % (genome_to_string(sorted_population[-1]),\n",
    "                              fitness_func(sorted_population[-1])))\n",
    "    print(\"\")\n",
    "\n",
    "    return sorted_population[0]\n"
   ]
  },
  {
   "cell_type": "code",
   "execution_count": 32,
   "metadata": {},
   "outputs": [],
   "source": []
  },
  {
   "cell_type": "code",
   "execution_count": 9,
   "metadata": {},
   "outputs": [
    {
     "ename": "SyntaxError",
     "evalue": "unexpected EOF while parsing (<ipython-input-9-b0c5e941be4d>, line 7)",
     "output_type": "error",
     "traceback": [
      "\u001b[1;36m  File \u001b[1;32m\"<ipython-input-9-b0c5e941be4d>\"\u001b[1;36m, line \u001b[1;32m7\u001b[0m\n\u001b[1;33m    \u001b[0m\n\u001b[1;37m    ^\u001b[0m\n\u001b[1;31mSyntaxError\u001b[0m\u001b[1;31m:\u001b[0m unexpected EOF while parsing\n"
     ]
    }
   ],
   "source": [
    "def Run_evolution(\n",
    "    population: Population,\n",
    "    init_population : Init_population,\n",
    "    single_point_crossover : Crossover_operator,\n",
    ") -> Population:\n",
    "    for i in range(generation_limit):\n",
    "    "
   ]
  },
  {
   "cell_type": "code",
   "execution_count": null,
   "metadata": {},
   "outputs": [],
   "source": []
  }
 ],
 "metadata": {
  "kernelspec": {
   "display_name": "Python 3",
   "language": "python",
   "name": "python3"
  },
  "language_info": {
   "codemirror_mode": {
    "name": "ipython",
    "version": 3
   },
   "file_extension": ".py",
   "mimetype": "text/x-python",
   "name": "python",
   "nbconvert_exporter": "python",
   "pygments_lexer": "ipython3",
   "version": "3.8.5"
  }
 },
 "nbformat": 4,
 "nbformat_minor": 4
}
